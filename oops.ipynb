{
 "cells": [
  {
   "cell_type": "markdown",
   "id": "86b3715e-2498-4fa0-8a87-1c41a3c8cc3d",
   "metadata": {},
   "source": [
    "\"Oops\" stands for Object-Oriented Programming System"
   ]
  },
  {
   "cell_type": "code",
   "execution_count": 1,
   "id": "fadf6bcb-2dcf-45a1-9cd8-5bba173fc672",
   "metadata": {},
   "outputs": [],
   "source": [
    "a = 1"
   ]
  },
  {
   "cell_type": "code",
   "execution_count": 2,
   "id": "349e4d03-f774-4e30-aa92-7f33a361686c",
   "metadata": {},
   "outputs": [
    {
     "name": "stdout",
     "output_type": "stream",
     "text": [
      "<class 'int'>\n"
     ]
    }
   ],
   "source": [
    "print(type(a))"
   ]
  },
  {
   "cell_type": "code",
   "execution_count": 3,
   "id": "62757be5-d416-4d6d-9c3b-2eb614814096",
   "metadata": {},
   "outputs": [
    {
     "name": "stdout",
     "output_type": "stream",
     "text": [
      "<class 'str'>\n"
     ]
    }
   ],
   "source": [
    "print(type(\"pwskills\"))"
   ]
  },
  {
   "cell_type": "code",
   "execution_count": 4,
   "id": "c2191ba0-94ab-4c60-8127-1f6210563dfc",
   "metadata": {},
   "outputs": [],
   "source": [
    "class test :\n",
    "    pass"
   ]
  },
  {
   "cell_type": "code",
   "execution_count": 5,
   "id": "d87196f7-019b-4bdf-81e1-9a3a1fe84548",
   "metadata": {},
   "outputs": [],
   "source": [
    "a = test()"
   ]
  },
  {
   "cell_type": "code",
   "execution_count": 6,
   "id": "98db8003-c06b-4169-97d7-2a9171447651",
   "metadata": {},
   "outputs": [
    {
     "data": {
      "text/plain": [
       "__main__.test"
      ]
     },
     "execution_count": 6,
     "metadata": {},
     "output_type": "execute_result"
    }
   ],
   "source": [
    "type(a)"
   ]
  },
  {
   "cell_type": "code",
   "execution_count": 7,
   "id": "bd9c6b25-2da1-44bf-a643-b35b424d2bd5",
   "metadata": {},
   "outputs": [
    {
     "name": "stdout",
     "output_type": "stream",
     "text": [
      "<class '__main__.test'>\n"
     ]
    }
   ],
   "source": [
    "print(type(a))"
   ]
  },
  {
   "cell_type": "code",
   "execution_count": 8,
   "id": "96310336-e3f2-4dd4-a44f-5a0f36191af7",
   "metadata": {},
   "outputs": [],
   "source": [
    "class pwskills:\n",
    "    \n",
    "    def welcome_msg(self):\n",
    "        print(\"welcome to pwskills\")"
   ]
  },
  {
   "cell_type": "code",
   "execution_count": 9,
   "id": "2cc9926b-87a6-40ec-8b03-d29e52999c24",
   "metadata": {},
   "outputs": [],
   "source": [
    "rohan = pwskills()"
   ]
  },
  {
   "cell_type": "code",
   "execution_count": 10,
   "id": "543b9657-c563-4dd0-872d-6c11142c6d42",
   "metadata": {},
   "outputs": [
    {
     "name": "stdout",
     "output_type": "stream",
     "text": [
      "<class '__main__.pwskills'>\n"
     ]
    }
   ],
   "source": [
    "print(type(rohan))"
   ]
  },
  {
   "cell_type": "code",
   "execution_count": 11,
   "id": "1500c841-b595-4e21-aad6-d4fb53491ac2",
   "metadata": {},
   "outputs": [
    {
     "name": "stdout",
     "output_type": "stream",
     "text": [
      "welcome to pwskills\n"
     ]
    }
   ],
   "source": [
    "rohan.welcome_msg()"
   ]
  },
  {
   "cell_type": "code",
   "execution_count": 12,
   "id": "e0abd676-6767-41b0-b121-86969ba46a04",
   "metadata": {},
   "outputs": [],
   "source": [
    "gaurav = pwskills()"
   ]
  },
  {
   "cell_type": "code",
   "execution_count": 13,
   "id": "c60b926d-2734-483f-b414-b9c42aa37633",
   "metadata": {},
   "outputs": [
    {
     "name": "stdout",
     "output_type": "stream",
     "text": [
      "welcome to pwskills\n"
     ]
    }
   ],
   "source": [
    "gaurav.welcome_msg()"
   ]
  },
  {
   "cell_type": "code",
   "execution_count": 14,
   "id": "d19a1c37-104c-4255-bc40-626d3387ae32",
   "metadata": {},
   "outputs": [],
   "source": [
    "class pwskills1:\n",
    "    \n",
    "    def __init__(self , phone_number , email_id , student_id):\n",
    "        self.phone_number = phone_number\n",
    "        self.email_id = email_id\n",
    "        self.student_id = student_id\n",
    "        \n",
    "        \n",
    "    def return_student_detials(self) :\n",
    "        return self.student_id , self.phone_number , self.email_id"
   ]
  },
  {
   "cell_type": "code",
   "execution_count": 15,
   "id": "61ca2d2d-11ce-4d65-86a6-f027556c9c44",
   "metadata": {},
   "outputs": [],
   "source": [
    "rohan = pwskills1(123456796 , \"rohan@gmail.com\" , 456)"
   ]
  },
  {
   "cell_type": "code",
   "execution_count": 16,
   "id": "dd1171d0-5d11-46a7-ba61-0ebbabe432ba",
   "metadata": {},
   "outputs": [
    {
     "data": {
      "text/plain": [
       "(456, 123456796, 'rohan@gmail.com')"
      ]
     },
     "execution_count": 16,
     "metadata": {},
     "output_type": "execute_result"
    }
   ],
   "source": [
    "rohan.return_student_detials()"
   ]
  },
  {
   "cell_type": "code",
   "execution_count": 17,
   "id": "d1a5b4ad-fa10-4e51-845b-5cd4f2f26d67",
   "metadata": {},
   "outputs": [],
   "source": [
    "gaurav = pwskills1(9874563214 , \"gaurav@gmail.com\" , 874)"
   ]
  },
  {
   "cell_type": "code",
   "execution_count": 18,
   "id": "c71a0656-0eab-40d8-8e7c-69d8c280a647",
   "metadata": {},
   "outputs": [
    {
     "data": {
      "text/plain": [
       "(874, 9874563214, 'gaurav@gmail.com')"
      ]
     },
     "execution_count": 18,
     "metadata": {},
     "output_type": "execute_result"
    }
   ],
   "source": [
    "gaurav.return_student_detials()"
   ]
  },
  {
   "cell_type": "code",
   "execution_count": 19,
   "id": "749d9f20-87d2-4554-861d-d4a4468d2b54",
   "metadata": {},
   "outputs": [
    {
     "data": {
      "text/plain": [
       "'rohan@gmail.com'"
      ]
     },
     "execution_count": 19,
     "metadata": {},
     "output_type": "execute_result"
    }
   ],
   "source": [
    "rohan.email_id"
   ]
  },
  {
   "cell_type": "code",
   "execution_count": 20,
   "id": "78809bbe-bbda-497c-8f1d-6ad7400801a6",
   "metadata": {},
   "outputs": [
    {
     "data": {
      "text/plain": [
       "874"
      ]
     },
     "execution_count": 20,
     "metadata": {},
     "output_type": "execute_result"
    }
   ],
   "source": [
    "gaurav.student_id"
   ]
  },
  {
   "cell_type": "code",
   "execution_count": 21,
   "id": "961fc453-6624-445f-8150-1ee13bf487b5",
   "metadata": {},
   "outputs": [
    {
     "data": {
      "text/plain": [
       "9874563214"
      ]
     },
     "execution_count": 21,
     "metadata": {},
     "output_type": "execute_result"
    }
   ],
   "source": [
    "gaurav.phone_number"
   ]
  },
  {
   "cell_type": "code",
   "execution_count": 22,
   "id": "5e02396a-aa16-477e-a5be-909dc9455cb4",
   "metadata": {},
   "outputs": [],
   "source": [
    "class pwskills2:\n",
    "    \n",
    "    def __init__(self , phone_number , email_id , student_id):\n",
    "        self.phone_number = phone_number\n",
    "        self.email_id = email_id\n",
    "        self.student_id = student_id\n",
    "        \n",
    "        \n",
    "    def return_student_detials(self) :\n",
    "        return self.student_id , self.phone_number , self.email_id"
   ]
  },
  {
   "cell_type": "code",
   "execution_count": 23,
   "id": "9ae5d755-5f8a-44d7-902d-816eac016235",
   "metadata": {},
   "outputs": [],
   "source": [
    "sudh = pwskills2(9987456645 , \"sudh@gamil.com\" , 45698)"
   ]
  },
  {
   "cell_type": "code",
   "execution_count": 24,
   "id": "d371deae-f39d-4e90-9496-e28a77244c25",
   "metadata": {},
   "outputs": [
    {
     "data": {
      "text/plain": [
       "<__main__.pwskills2 at 0x7fd6682018a0>"
      ]
     },
     "execution_count": 24,
     "metadata": {},
     "output_type": "execute_result"
    }
   ],
   "source": [
    "sudh"
   ]
  },
  {
   "cell_type": "markdown",
   "id": "31baca71-ec94-48f1-bc04-f9ea8dcedee0",
   "metadata": {},
   "source": [
    "polymorphism"
   ]
  },
  {
   "cell_type": "code",
   "execution_count": 25,
   "id": "a52470f9-2bba-4eda-8cb3-94186916ff53",
   "metadata": {},
   "outputs": [],
   "source": [
    "def test(a ,b):\n",
    "    return a+b"
   ]
  },
  {
   "cell_type": "code",
   "execution_count": 26,
   "id": "8c9a1a13-6344-4310-97e6-2afa9983346d",
   "metadata": {},
   "outputs": [
    {
     "data": {
      "text/plain": [
       "7"
      ]
     },
     "execution_count": 26,
     "metadata": {},
     "output_type": "execute_result"
    }
   ],
   "source": [
    "test(3,4)"
   ]
  },
  {
   "cell_type": "code",
   "execution_count": 27,
   "id": "f944ce70-b9fc-4f6b-a060-02244ff8f33e",
   "metadata": {},
   "outputs": [
    {
     "data": {
      "text/plain": [
       "[1, 2, 3, 4, 5, 1, 8, 9, 6, 7, 4]"
      ]
     },
     "execution_count": 27,
     "metadata": {},
     "output_type": "execute_result"
    }
   ],
   "source": [
    "test([1,2,3,4,5] , [1,8,9,6,7,4])"
   ]
  },
  {
   "cell_type": "code",
   "execution_count": 28,
   "id": "a68f0bda-a0f8-4de9-9d81-91dc73d93f37",
   "metadata": {},
   "outputs": [
    {
     "data": {
      "text/plain": [
       "'poojaudimkar'"
      ]
     },
     "execution_count": 28,
     "metadata": {},
     "output_type": "execute_result"
    }
   ],
   "source": [
    "test(\"pooja\" , \"udimkar\")"
   ]
  },
  {
   "cell_type": "code",
   "execution_count": 29,
   "id": "90c03b94-61d7-48c6-a715-cc65f433d99d",
   "metadata": {},
   "outputs": [],
   "source": [
    "class data_science:\n",
    "    \n",
    "    def syllabus(self):\n",
    "        print(\"this is the syllabus for data science\")"
   ]
  },
  {
   "cell_type": "code",
   "execution_count": 30,
   "id": "50aaa326-afdd-4258-ac80-2088fd746653",
   "metadata": {},
   "outputs": [],
   "source": [
    "class web_dev:\n",
    "    \n",
    "    def syllabus(self):\n",
    "        print(\"this is the syllabus for web dev\")"
   ]
  },
  {
   "cell_type": "code",
   "execution_count": 31,
   "id": "30108de3-8435-42eb-8f95-e20415d29044",
   "metadata": {},
   "outputs": [],
   "source": [
    "def class_parcer(class_obj):\n",
    "    for i in class_obj:\n",
    "        i.syllabus()"
   ]
  },
  {
   "cell_type": "code",
   "execution_count": 32,
   "id": "7258db24-7c47-434c-801d-5daecdf94028",
   "metadata": {},
   "outputs": [],
   "source": [
    "data_science = data_science()"
   ]
  },
  {
   "cell_type": "code",
   "execution_count": 33,
   "id": "c287558f-66ca-48ba-b71f-1b0a37d44b1e",
   "metadata": {},
   "outputs": [],
   "source": [
    "web_dev = web_dev()"
   ]
  },
  {
   "cell_type": "code",
   "execution_count": 34,
   "id": "769e9a32-006f-46ee-95ef-064435d8a2c1",
   "metadata": {},
   "outputs": [],
   "source": [
    "class_obj = [data_science , web_dev]"
   ]
  },
  {
   "cell_type": "code",
   "execution_count": 35,
   "id": "b55b652a-a353-4b4d-9b38-47f82b17ec5d",
   "metadata": {},
   "outputs": [
    {
     "name": "stdout",
     "output_type": "stream",
     "text": [
      "this is the syllabus for data science\n",
      "this is the syllabus for web dev\n"
     ]
    }
   ],
   "source": [
    "class_parcer(class_obj)"
   ]
  },
  {
   "cell_type": "markdown",
   "id": "8018d633-6041-4ab2-af5f-38fbb3149db8",
   "metadata": {},
   "source": [
    "encapsulation"
   ]
  },
  {
   "cell_type": "code",
   "execution_count": 36,
   "id": "ddf96e83-ba00-44f7-9eea-3e8de75c4740",
   "metadata": {},
   "outputs": [],
   "source": [
    "class test :\n",
    "    \n",
    "    def __init__(self , a,b):\n",
    "        self.a = a\n",
    "        self.b = b"
   ]
  },
  {
   "cell_type": "code",
   "execution_count": 37,
   "id": "d4268636-431f-484f-bbc8-665d07f10925",
   "metadata": {},
   "outputs": [],
   "source": [
    "t = test(23 , 45)"
   ]
  },
  {
   "cell_type": "code",
   "execution_count": 38,
   "id": "eaf0e08c-3349-431b-850c-05d0a95e93ff",
   "metadata": {},
   "outputs": [
    {
     "data": {
      "text/plain": [
       "23"
      ]
     },
     "execution_count": 38,
     "metadata": {},
     "output_type": "execute_result"
    }
   ],
   "source": [
    "t.a"
   ]
  },
  {
   "cell_type": "code",
   "execution_count": 39,
   "id": "1b01eae8-e19d-4b7d-aaa8-a20c926f62b8",
   "metadata": {},
   "outputs": [],
   "source": [
    "t.a = 23654"
   ]
  },
  {
   "cell_type": "code",
   "execution_count": 40,
   "id": "af64fbd0-dcc9-46fd-be25-ae187fc55712",
   "metadata": {},
   "outputs": [
    {
     "data": {
      "text/plain": [
       "23654"
      ]
     },
     "execution_count": 40,
     "metadata": {},
     "output_type": "execute_result"
    }
   ],
   "source": [
    "t.a"
   ]
  },
  {
   "cell_type": "code",
   "execution_count": 41,
   "id": "2c702b79-dc38-4d50-8de0-f38d11a696ee",
   "metadata": {},
   "outputs": [],
   "source": [
    "class car :\n",
    "    def __init__(self , year , make , model , speed):\n",
    "        \n",
    "        self.__year = year\n",
    "        self.__make = make\n",
    "        self.__model = model\n",
    "        self.__speed = 0\n",
    "        \n",
    "    def set_speed(self, speed):\n",
    "        self.__speed = 0 if speed < 0 else speed\n",
    "        \n",
    "    def get_speed(self) :\n",
    "        return self.__speed"
   ]
  },
  {
   "cell_type": "code",
   "execution_count": 42,
   "id": "d5fe0fd0-a4d6-4172-946c-13a139bf3306",
   "metadata": {},
   "outputs": [],
   "source": [
    "c = car(2023 , \"toyata\" , \"innova\" , 12)"
   ]
  },
  {
   "cell_type": "code",
   "execution_count": 43,
   "id": "c8432fd1-08ca-4525-b71b-faef9a0359a0",
   "metadata": {},
   "outputs": [
    {
     "data": {
      "text/plain": [
       "2023"
      ]
     },
     "execution_count": 43,
     "metadata": {},
     "output_type": "execute_result"
    }
   ],
   "source": [
    "c._car__year"
   ]
  },
  {
   "cell_type": "code",
   "execution_count": 44,
   "id": "208cd34a-4909-4651-89e8-53a488d97b94",
   "metadata": {},
   "outputs": [],
   "source": [
    "c.set_speed(452)"
   ]
  },
  {
   "cell_type": "code",
   "execution_count": 45,
   "id": "097aafdf-4df2-4bbb-b139-ec009bc726eb",
   "metadata": {},
   "outputs": [
    {
     "data": {
      "text/plain": [
       "452"
      ]
     },
     "execution_count": 45,
     "metadata": {},
     "output_type": "execute_result"
    }
   ],
   "source": [
    "c.get_speed()"
   ]
  },
  {
   "cell_type": "code",
   "execution_count": 46,
   "id": "1665c73f-e594-4d96-9ef0-9301f6d6599d",
   "metadata": {},
   "outputs": [],
   "source": [
    "c.set_speed(-6541)"
   ]
  },
  {
   "cell_type": "code",
   "execution_count": 47,
   "id": "96c6ebdf-4a7f-44fd-9caa-19103db49300",
   "metadata": {},
   "outputs": [
    {
     "data": {
      "text/plain": [
       "0"
      ]
     },
     "execution_count": 47,
     "metadata": {},
     "output_type": "execute_result"
    }
   ],
   "source": [
    "c.get_speed()"
   ]
  },
  {
   "cell_type": "code",
   "execution_count": 48,
   "id": "f9a444ab-a6a7-43aa-bd48-0ad4d7bf8982",
   "metadata": {},
   "outputs": [],
   "source": [
    "class bank_account :\n",
    "    def __init__(self , balance) :\n",
    "        self.__balance = balance\n",
    "        \n",
    "    def deposit(self , amount) :\n",
    "        self.__balance = self.__balance + amount\n",
    "        \n",
    "    def withdraw(self , amount) :\n",
    "        if self.__balance >= amount:\n",
    "            self.__balance = self.__balance - amount\n",
    "            return True\n",
    "        else :\n",
    "            return False\n",
    "        \n",
    "    def get_balance(self):\n",
    "        return self.__balance"
   ]
  },
  {
   "cell_type": "code",
   "execution_count": 49,
   "id": "bb2ed616-9494-4500-8a03-3f69ef8c1250",
   "metadata": {},
   "outputs": [],
   "source": [
    "sudh = bank_account(1000)"
   ]
  },
  {
   "cell_type": "code",
   "execution_count": 50,
   "id": "0bfcdeb0-42e7-406e-b7f6-20c8e3368694",
   "metadata": {},
   "outputs": [
    {
     "data": {
      "text/plain": [
       "1000"
      ]
     },
     "execution_count": 50,
     "metadata": {},
     "output_type": "execute_result"
    }
   ],
   "source": [
    "sudh.get_balance()"
   ]
  },
  {
   "cell_type": "code",
   "execution_count": 51,
   "id": "f21319d6-48ed-4351-b30b-b33be674ad9e",
   "metadata": {},
   "outputs": [],
   "source": [
    "sudh.deposit(59632)"
   ]
  },
  {
   "cell_type": "code",
   "execution_count": 52,
   "id": "49a28662-b787-4cd1-98e7-5f6d8545c9f4",
   "metadata": {},
   "outputs": [
    {
     "data": {
      "text/plain": [
       "60632"
      ]
     },
     "execution_count": 52,
     "metadata": {},
     "output_type": "execute_result"
    }
   ],
   "source": [
    "sudh.get_balance()"
   ]
  },
  {
   "cell_type": "code",
   "execution_count": 53,
   "id": "424dbb9f-b3a9-4955-aa61-9f7b2634db7b",
   "metadata": {},
   "outputs": [
    {
     "data": {
      "text/plain": [
       "True"
      ]
     },
     "execution_count": 53,
     "metadata": {},
     "output_type": "execute_result"
    }
   ],
   "source": [
    "sudh.withdraw(60000)"
   ]
  },
  {
   "cell_type": "code",
   "execution_count": 54,
   "id": "50e797a3-cdd6-4414-a243-6cb1c1f8c14d",
   "metadata": {},
   "outputs": [
    {
     "data": {
      "text/plain": [
       "632"
      ]
     },
     "execution_count": 54,
     "metadata": {},
     "output_type": "execute_result"
    }
   ],
   "source": [
    "sudh.get_balance()"
   ]
  },
  {
   "cell_type": "markdown",
   "id": "9b9b989c-397b-4e36-aa66-c1c81dc237e6",
   "metadata": {},
   "source": [
    "inheritance"
   ]
  },
  {
   "cell_type": "code",
   "execution_count": 55,
   "id": "41651d9c-44f5-4351-a6f1-1782844ff398",
   "metadata": {},
   "outputs": [],
   "source": [
    "class test:\n",
    "    \n",
    "    def test_meth(self) :\n",
    "        return \"this is my first class\""
   ]
  },
  {
   "cell_type": "code",
   "execution_count": 56,
   "id": "8266b5dc-8f4b-4443-912b-026fda766b10",
   "metadata": {},
   "outputs": [],
   "source": [
    "class child_test(test):\n",
    "    pass"
   ]
  },
  {
   "cell_type": "code",
   "execution_count": 57,
   "id": "ed85a138-6e67-48b0-911d-5c1f2b06fcc4",
   "metadata": {},
   "outputs": [],
   "source": [
    "child_test_obj = child_test()"
   ]
  },
  {
   "cell_type": "code",
   "execution_count": 58,
   "id": "d3035a65-e6eb-44ba-980f-aba0336474c5",
   "metadata": {},
   "outputs": [
    {
     "data": {
      "text/plain": [
       "'this is my first class'"
      ]
     },
     "execution_count": 58,
     "metadata": {},
     "output_type": "execute_result"
    }
   ],
   "source": [
    "child_test_obj.test_meth()"
   ]
  },
  {
   "cell_type": "code",
   "execution_count": 59,
   "id": "a7e75490-ec65-4046-835e-d5190df2fdf2",
   "metadata": {},
   "outputs": [],
   "source": [
    "class class1:\n",
    "    \n",
    "    def test_class1(self):\n",
    "        return\"this is a meth from class1\""
   ]
  },
  {
   "cell_type": "code",
   "execution_count": 60,
   "id": "8a73a7ea-2fc4-4dee-8222-fe0b79df717c",
   "metadata": {},
   "outputs": [],
   "source": [
    "class class2(class1):\n",
    "    \n",
    "    def test_class2(self) :\n",
    "        return\"this is a meth from class2\""
   ]
  },
  {
   "cell_type": "code",
   "execution_count": 61,
   "id": "0e20b119-3340-4410-a055-3812b7769204",
   "metadata": {},
   "outputs": [],
   "source": [
    "class class3(class2):\n",
    "    pass"
   ]
  },
  {
   "cell_type": "code",
   "execution_count": 62,
   "id": "b2837448-4a40-4690-b91e-0e13d5ca2794",
   "metadata": {},
   "outputs": [],
   "source": [
    "obj_class3 = class3()"
   ]
  },
  {
   "cell_type": "code",
   "execution_count": 63,
   "id": "fc2708b4-6871-4c23-88d0-f1b3a2773e14",
   "metadata": {},
   "outputs": [
    {
     "data": {
      "text/plain": [
       "'this is a meth from class1'"
      ]
     },
     "execution_count": 63,
     "metadata": {},
     "output_type": "execute_result"
    }
   ],
   "source": [
    "obj_class3.test_class1()"
   ]
  },
  {
   "cell_type": "code",
   "execution_count": 64,
   "id": "1cf2df0a-00a7-46b0-acb1-ac96ec297eb8",
   "metadata": {},
   "outputs": [
    {
     "data": {
      "text/plain": [
       "'this is a meth from class2'"
      ]
     },
     "execution_count": 64,
     "metadata": {},
     "output_type": "execute_result"
    }
   ],
   "source": [
    "obj_class3.test_class2()"
   ]
  },
  {
   "cell_type": "code",
   "execution_count": 65,
   "id": "b55c393f-cbb2-464c-8dae-b84cc207aaa3",
   "metadata": {},
   "outputs": [],
   "source": [
    "class class1:\n",
    "    \n",
    "    def test_class1(self):\n",
    "        return \"this is class1\""
   ]
  },
  {
   "cell_type": "code",
   "execution_count": 66,
   "id": "8c47a0b2-2c4f-4363-a65e-7aea6a56c85a",
   "metadata": {},
   "outputs": [],
   "source": [
    "class class2:\n",
    "    \n",
    "    def test_class2(self):\n",
    "        return \"this is my class 2\""
   ]
  },
  {
   "cell_type": "code",
   "execution_count": 67,
   "id": "d9488167-aea3-4732-b1ef-51eafcbdc8d7",
   "metadata": {},
   "outputs": [],
   "source": [
    "class class3(class1 ,class2):\n",
    "    pass"
   ]
  },
  {
   "cell_type": "code",
   "execution_count": 68,
   "id": "b573b931-be00-4825-bb78-58e42ebea271",
   "metadata": {},
   "outputs": [],
   "source": [
    "class3_obj = class3()"
   ]
  },
  {
   "cell_type": "code",
   "execution_count": 69,
   "id": "db4a0019-10ce-4720-843e-d852479dc45b",
   "metadata": {},
   "outputs": [
    {
     "data": {
      "text/plain": [
       "'this is class1'"
      ]
     },
     "execution_count": 69,
     "metadata": {},
     "output_type": "execute_result"
    }
   ],
   "source": [
    "class3_obj.test_class1()"
   ]
  },
  {
   "cell_type": "code",
   "execution_count": 70,
   "id": "ae5a23c0-e4ce-4a3f-a127-4b2a67e1ab71",
   "metadata": {},
   "outputs": [
    {
     "data": {
      "text/plain": [
       "'this is my class 2'"
      ]
     },
     "execution_count": 70,
     "metadata": {},
     "output_type": "execute_result"
    }
   ],
   "source": [
    "class3_obj.test_class2()"
   ]
  },
  {
   "cell_type": "markdown",
   "id": "d08b5256-0450-4447-8f92-f55d91485d1a",
   "metadata": {},
   "source": [
    "abstract method"
   ]
  },
  {
   "cell_type": "code",
   "execution_count": 71,
   "id": "15ca65f5-f8c3-418f-8b85-740e0d9269fa",
   "metadata": {},
   "outputs": [],
   "source": [
    "import abc\n",
    "class pwskills:\n",
    "    @abc.abstractmethod\n",
    "    def students_details(self):\n",
    "        pass\n",
    "    @abc.abstractmethod\n",
    "    def students_assigenment(self):\n",
    "        pass\n",
    "    @abc.abstractmethod\n",
    "    def students_marks(self):\n",
    "        pass"
   ]
  },
  {
   "cell_type": "code",
   "execution_count": 72,
   "id": "59d7030c-cf15-4103-8f6b-65570d5b3ee5",
   "metadata": {},
   "outputs": [],
   "source": [
    "class student_detials(pwskills):\n",
    "    \n",
    "    def students_details(self):\n",
    "        return \"this is a meth for taking students details\"\n",
    "    \n",
    "    def students_assigenment(self):\n",
    "        return \"this is a meth for assing details for a perticuler studdent\""
   ]
  },
  {
   "cell_type": "code",
   "execution_count": 73,
   "id": "897d97d9-6890-441b-8658-b2b65a9463b3",
   "metadata": {},
   "outputs": [],
   "source": [
    "class data_science_master(pwskills):\n",
    "    \n",
    "    def students_assigenment(self):\n",
    "        return \"this will return a student details for data science master\"\n",
    "    \n",
    "    def students_details(self):\n",
    "        return \"this will give you a student assignment details for data science master\""
   ]
  },
  {
   "cell_type": "code",
   "execution_count": 74,
   "id": "0c04cbb3-b040-4098-9ea6-edb7d6f721d9",
   "metadata": {},
   "outputs": [
    {
     "data": {
      "text/plain": [
       "'this will give you a student assignment details for data science master'"
      ]
     },
     "execution_count": 74,
     "metadata": {},
     "output_type": "execute_result"
    }
   ],
   "source": [
    "dsm = data_science_master()\n",
    "dsm.students_details()"
   ]
  },
  {
   "cell_type": "code",
   "execution_count": 75,
   "id": "0b3446d8-af56-4745-8495-8be838aebcf1",
   "metadata": {},
   "outputs": [
    {
     "data": {
      "text/plain": [
       "'this is a meth for taking students details'"
      ]
     },
     "execution_count": 75,
     "metadata": {},
     "output_type": "execute_result"
    }
   ],
   "source": [
    "sd = student_detials()\n",
    "sd.students_details()"
   ]
  },
  {
   "cell_type": "markdown",
   "id": "c6322170-faa6-4be4-994b-5145e0602fdc",
   "metadata": {},
   "source": [
    "decorator"
   ]
  },
  {
   "cell_type": "code",
   "execution_count": 76,
   "id": "876c0a27-ce2e-4650-877e-da9f88fe3c50",
   "metadata": {},
   "outputs": [],
   "source": [
    "def test():\n",
    "    print(\"this is the start of my function\")\n",
    "    print(\"this is my function to test\")\n",
    "    print(4+5)\n",
    "    print(\"this is the end of my function\")"
   ]
  },
  {
   "cell_type": "code",
   "execution_count": 77,
   "id": "77d8c22e-02cf-4fe7-9baf-b83db7d471cf",
   "metadata": {},
   "outputs": [
    {
     "name": "stdout",
     "output_type": "stream",
     "text": [
      "this is the start of my function\n",
      "this is my function to test\n",
      "9\n",
      "this is the end of my function\n"
     ]
    }
   ],
   "source": [
    "test()"
   ]
  },
  {
   "cell_type": "code",
   "execution_count": 78,
   "id": "85ea14ed-82f2-4a9d-a3a0-e11264f214aa",
   "metadata": {},
   "outputs": [],
   "source": [
    "def deco(func):\n",
    "    def inner_dec():\n",
    "        print(\"this is the start of my func\")\n",
    "        func()\n",
    "        print(\"this is the end of my func\")\n",
    "    return inner_dec   "
   ]
  },
  {
   "cell_type": "code",
   "execution_count": 79,
   "id": "a436fe85-1132-4e3d-814f-99046db1e075",
   "metadata": {},
   "outputs": [],
   "source": [
    "@deco\n",
    "def test1():\n",
    "    print(6+7)"
   ]
  },
  {
   "cell_type": "code",
   "execution_count": 80,
   "id": "482d1ff3-1e28-4720-b00c-787e0c09f9d6",
   "metadata": {},
   "outputs": [
    {
     "name": "stdout",
     "output_type": "stream",
     "text": [
      "this is the start of my func\n",
      "13\n",
      "this is the end of my func\n"
     ]
    }
   ],
   "source": [
    "test1()"
   ]
  },
  {
   "cell_type": "code",
   "execution_count": 81,
   "id": "f0ac6ca8-5f96-4a53-a3af-44f6a629d705",
   "metadata": {},
   "outputs": [],
   "source": [
    "import time\n",
    "\n",
    "def timer_test(func):\n",
    "    def timer_test_inner():\n",
    "        start = time.time()\n",
    "        func()\n",
    "        end = time.time()\n",
    "        print(end - start)\n",
    "    return timer_test_inner   "
   ]
  },
  {
   "cell_type": "code",
   "execution_count": 82,
   "id": "b5f99244-0585-4507-ae10-b6cdf4278a41",
   "metadata": {},
   "outputs": [],
   "source": [
    "def test2():\n",
    "    print(45+63)"
   ]
  },
  {
   "cell_type": "code",
   "execution_count": 83,
   "id": "7ef00693-90ed-4e56-97ef-84efadb9e84e",
   "metadata": {},
   "outputs": [
    {
     "name": "stdout",
     "output_type": "stream",
     "text": [
      "108\n"
     ]
    }
   ],
   "source": [
    "test2()"
   ]
  },
  {
   "cell_type": "code",
   "execution_count": 84,
   "id": "c11c1d68-6df8-4d9f-adde-2d1fe8b74710",
   "metadata": {},
   "outputs": [],
   "source": [
    "@timer_test\n",
    "def test2():\n",
    "    print(45+63)"
   ]
  },
  {
   "cell_type": "code",
   "execution_count": 85,
   "id": "2f62b868-2881-4023-8a33-e73516fbea29",
   "metadata": {},
   "outputs": [
    {
     "name": "stdout",
     "output_type": "stream",
     "text": [
      "108\n",
      "0.0001933574676513672\n"
     ]
    }
   ],
   "source": [
    "test2()"
   ]
  },
  {
   "cell_type": "code",
   "execution_count": 88,
   "id": "fa951f0b-bc65-466f-b237-265f9336a27c",
   "metadata": {},
   "outputs": [],
   "source": [
    "@timer_test\n",
    "def test():\n",
    "    for i in range(105560):\n",
    "        pass"
   ]
  },
  {
   "cell_type": "code",
   "execution_count": 89,
   "id": "4b033915-0e5f-438e-a32f-4ded77764dbf",
   "metadata": {},
   "outputs": [
    {
     "name": "stdout",
     "output_type": "stream",
     "text": [
      "0.0026597976684570312\n"
     ]
    }
   ],
   "source": [
    "test()"
   ]
  },
  {
   "cell_type": "markdown",
   "id": "3c099d42-a0cf-4d13-a34d-5d212cf6619c",
   "metadata": {},
   "source": [
    "class method"
   ]
  },
  {
   "cell_type": "code",
   "execution_count": 90,
   "id": "fe911466-471a-499b-b73b-7a3b9566e94f",
   "metadata": {},
   "outputs": [],
   "source": [
    "class pwskills:\n",
    "    \n",
    "    def __init__(self , name , email):\n",
    "        \n",
    "        self.name = name\n",
    "        self.email = email\n",
    "        \n",
    "    def students_details(self):\n",
    "        print(self.name , self.email)"
   ]
  },
  {
   "cell_type": "code",
   "execution_count": 91,
   "id": "cc7dd84d-a71a-4fd0-9a28-508d5a6ccfbc",
   "metadata": {},
   "outputs": [],
   "source": [
    "pw = pwskills(\"mohan\" , \"mohan@gamil.com\")"
   ]
  },
  {
   "cell_type": "code",
   "execution_count": 92,
   "id": "9c101d3e-d989-4581-b5e1-183690271861",
   "metadata": {},
   "outputs": [
    {
     "data": {
      "text/plain": [
       "'mohan'"
      ]
     },
     "execution_count": 92,
     "metadata": {},
     "output_type": "execute_result"
    }
   ],
   "source": [
    "pw.name"
   ]
  },
  {
   "cell_type": "code",
   "execution_count": 93,
   "id": "0cf0f523-fe50-46b2-89cd-5325e240893a",
   "metadata": {},
   "outputs": [
    {
     "data": {
      "text/plain": [
       "'mohan@gamil.com'"
      ]
     },
     "execution_count": 93,
     "metadata": {},
     "output_type": "execute_result"
    }
   ],
   "source": [
    "pw.email"
   ]
  },
  {
   "cell_type": "code",
   "execution_count": 94,
   "id": "0dcf910d-8076-4786-ba1a-c6393ae0f75e",
   "metadata": {},
   "outputs": [
    {
     "name": "stdout",
     "output_type": "stream",
     "text": [
      "mohan mohan@gamil.com\n"
     ]
    }
   ],
   "source": [
    "pw.students_details()"
   ]
  },
  {
   "cell_type": "code",
   "execution_count": 95,
   "id": "d345c3a3-46b7-454b-9fe2-f55f27c9ecfe",
   "metadata": {},
   "outputs": [],
   "source": [
    "class pwskills1:\n",
    "    \n",
    "    def __init__(self , name , email):\n",
    "        \n",
    "        self.name = name\n",
    "        self.email = email\n",
    "        \n",
    "    @classmethod\n",
    "    def details(cls , name , email):\n",
    "        return cls(name , email)\n",
    "        \n",
    "    def students_details(self):\n",
    "        print(self.name , self.email)"
   ]
  },
  {
   "cell_type": "code",
   "execution_count": 98,
   "id": "a32f0afd-99f0-40d7-bc2b-80a5b3c2cbe9",
   "metadata": {},
   "outputs": [],
   "source": [
    "pw1 = pwskills1.details(\"sudh\" , \"sudh@gmail.com\")"
   ]
  },
  {
   "cell_type": "code",
   "execution_count": 99,
   "id": "fd7c073b-aaf1-447b-8717-b2bce45faa24",
   "metadata": {},
   "outputs": [
    {
     "data": {
      "text/plain": [
       "'sudh'"
      ]
     },
     "execution_count": 99,
     "metadata": {},
     "output_type": "execute_result"
    }
   ],
   "source": [
    "pw1.name"
   ]
  },
  {
   "cell_type": "code",
   "execution_count": 101,
   "id": "f2cded5a-a844-4542-996e-9d55e3747cad",
   "metadata": {},
   "outputs": [
    {
     "data": {
      "text/plain": [
       "'sudh@gmail.com'"
      ]
     },
     "execution_count": 101,
     "metadata": {},
     "output_type": "execute_result"
    }
   ],
   "source": [
    "pw1.email\n"
   ]
  },
  {
   "cell_type": "code",
   "execution_count": 102,
   "id": "8370c091-7ee1-4870-9f31-672c73e29ec5",
   "metadata": {},
   "outputs": [
    {
     "name": "stdout",
     "output_type": "stream",
     "text": [
      "sudh sudh@gmail.com\n"
     ]
    }
   ],
   "source": [
    "pw1.students_details()"
   ]
  },
  {
   "cell_type": "code",
   "execution_count": 117,
   "id": "55738cc3-b50a-4d1a-97a9-dc4bc478a0a8",
   "metadata": {},
   "outputs": [],
   "source": [
    "class pwskills2:\n",
    "    \n",
    "    mobile_num = 9325687414\n",
    "    \n",
    "    def __init__(self , name , email):\n",
    "        \n",
    "        self.name = name\n",
    "        self.email = email\n",
    "    @classmethod \n",
    "    def change_number(cls , mobile):\n",
    "        pwskills2.mobile_num = mobile\n",
    "    \n",
    "    \n",
    "    @classmethod\n",
    "    def details(cls , name , email):\n",
    "        return cls(name , email)\n",
    "        \n",
    "    def students_details(self):\n",
    "        print(self.name , self.email , pwskills2.mobile_num)"
   ]
  },
  {
   "cell_type": "code",
   "execution_count": 120,
   "id": "2c72b480-faaa-4743-bbcf-e878456fb06c",
   "metadata": {},
   "outputs": [],
   "source": [
    "pw = pwskills2.details(\"rohan\" , \"rohan@gmail.com\")"
   ]
  },
  {
   "cell_type": "code",
   "execution_count": 121,
   "id": "194e687b-a702-4380-af94-065e13401aa6",
   "metadata": {},
   "outputs": [
    {
     "name": "stdout",
     "output_type": "stream",
     "text": [
      "rohan rohan@gmail.com 9325687414\n"
     ]
    }
   ],
   "source": [
    "pw.students_details()"
   ]
  },
  {
   "cell_type": "code",
   "execution_count": 118,
   "id": "367098fa-99e1-4539-922a-8b85359fcdf3",
   "metadata": {},
   "outputs": [],
   "source": [
    "pw_obj = pwskills2(\"sudh\" , \"sudh@gmail.com\")"
   ]
  },
  {
   "cell_type": "code",
   "execution_count": 119,
   "id": "1efc088e-3d0b-46d6-8380-ece0e63f5646",
   "metadata": {},
   "outputs": [
    {
     "name": "stdout",
     "output_type": "stream",
     "text": [
      "sudh sudh@gmail.com 9325687414\n"
     ]
    }
   ],
   "source": [
    "pw_obj.students_details()"
   ]
  },
  {
   "cell_type": "code",
   "execution_count": null,
   "id": "5de0c4eb-f6e3-45b0-8075-b5e2f9f1a2a6",
   "metadata": {},
   "outputs": [],
   "source": []
  },
  {
   "cell_type": "code",
   "execution_count": 115,
   "id": "f55006c0-255a-439e-ba93-4434d1c23948",
   "metadata": {},
   "outputs": [],
   "source": [
    "pwskills2.change_number(4569871236)"
   ]
  },
  {
   "cell_type": "code",
   "execution_count": 116,
   "id": "8f9afdf7-633a-495b-8edd-5038bb9b1b66",
   "metadata": {},
   "outputs": [
    {
     "data": {
      "text/plain": [
       "4569871236"
      ]
     },
     "execution_count": 116,
     "metadata": {},
     "output_type": "execute_result"
    }
   ],
   "source": [
    "pwskills2.mobile_num"
   ]
  },
  {
   "cell_type": "code",
   "execution_count": 122,
   "id": "dbc3d3e7-139b-4971-8520-c67b23857859",
   "metadata": {},
   "outputs": [],
   "source": [
    "class pwskills3:\n",
    "    \n",
    "    mobile_num = 9325687414\n",
    "    \n",
    "    def __init__(self , name , email):\n",
    "        \n",
    "        self.name = name\n",
    "        self.email = email\n",
    "    @classmethod \n",
    "    def change_number(cls , mobile):\n",
    "        pwskills2.mobile_num = mobile\n",
    "    \n",
    "    \n",
    "    @classmethod\n",
    "    def details(cls , name , email):\n",
    "        return cls(name , email)\n",
    "        \n",
    "    def students_details(self):\n",
    "        print(self.name , self.email , pwskills2.mobile_num)"
   ]
  },
  {
   "cell_type": "code",
   "execution_count": 123,
   "id": "d6c5c67c-7130-4ff4-9aac-8352ff7771d2",
   "metadata": {},
   "outputs": [],
   "source": [
    "def course_details(cls ,course_name):\n",
    "    print(\"course name is \" , course_name)"
   ]
  },
  {
   "cell_type": "code",
   "execution_count": 124,
   "id": "51270dce-533c-4a6c-aae4-25e23e88454c",
   "metadata": {},
   "outputs": [],
   "source": [
    "pwskills3.course_details = classmethod(course_details)"
   ]
  },
  {
   "cell_type": "code",
   "execution_count": 125,
   "id": "41939fb4-9868-4766-a7b1-28590f3d93eb",
   "metadata": {},
   "outputs": [
    {
     "name": "stdout",
     "output_type": "stream",
     "text": [
      "course name is  data science master\n"
     ]
    }
   ],
   "source": [
    "pwskills3.course_details(\"data science master\")"
   ]
  },
  {
   "cell_type": "code",
   "execution_count": 126,
   "id": "839767b8-8ddd-42be-af7b-bb7ab208163e",
   "metadata": {},
   "outputs": [],
   "source": [
    "def mentor(cls , list_of_mentor):\n",
    "    print(\"list of mentor \", list_of_mentor )"
   ]
  },
  {
   "cell_type": "code",
   "execution_count": 127,
   "id": "87a5e02a-eb7c-444c-8583-94b5f24e29b0",
   "metadata": {},
   "outputs": [],
   "source": [
    "pwskills3.mentor = classmethod(mentor)"
   ]
  },
  {
   "cell_type": "code",
   "execution_count": 128,
   "id": "a468cfbe-5145-4a3f-a707-5c89808c5066",
   "metadata": {},
   "outputs": [
    {
     "name": "stdout",
     "output_type": "stream",
     "text": [
      "list of mentor  ['sudh', 'krish', 'anurag']\n"
     ]
    }
   ],
   "source": [
    "pwskills3.mentor([\"sudh\" , \"krish\" , \"anurag\"])"
   ]
  },
  {
   "cell_type": "code",
   "execution_count": 129,
   "id": "42e795b2-bd84-4efb-ab26-7892dc474ae2",
   "metadata": {},
   "outputs": [],
   "source": [
    "class pwskills4:\n",
    "    \n",
    "    mobile_num = 9325687414\n",
    "    \n",
    "    def __init__(self , name , email):\n",
    "        \n",
    "        self.name = name\n",
    "        self.email = email\n",
    "    @classmethod \n",
    "    def change_number(cls , mobile):\n",
    "        pwskills2.mobile_num = mobile\n",
    "    \n",
    "    \n",
    "    @classmethod\n",
    "    def details(cls , name , email):\n",
    "        return cls(name , email)\n",
    "        \n",
    "    def students_details(self):\n",
    "        print(self.name , self.email , pwskills2.mobile_num)"
   ]
  },
  {
   "cell_type": "code",
   "execution_count": 131,
   "id": "2f0cf4f0-c0fa-4350-be11-b423578e4653",
   "metadata": {},
   "outputs": [],
   "source": [
    "del pwskills4.change_number"
   ]
  },
  {
   "cell_type": "code",
   "execution_count": 133,
   "id": "336343ba-6fab-4561-9d6e-3e58ad13a8e9",
   "metadata": {},
   "outputs": [],
   "source": [
    "delattr(pwskills4 , \"details\")"
   ]
  },
  {
   "cell_type": "code",
   "execution_count": 134,
   "id": "41ba70dc-b270-4f9a-bcec-58380f846fe0",
   "metadata": {},
   "outputs": [],
   "source": [
    "delattr(pwskills4 , \"students_details\")"
   ]
  },
  {
   "cell_type": "code",
   "execution_count": 135,
   "id": "1f79361c-9aa6-4c66-8cb8-a4df5d7a3fa7",
   "metadata": {},
   "outputs": [],
   "source": [
    "delattr(pwskills4 , \"mobile_num\")"
   ]
  },
  {
   "cell_type": "code",
   "execution_count": 136,
   "id": "d68355a6-a7da-46d7-b265-76b0361e4fd5",
   "metadata": {},
   "outputs": [
    {
     "data": {
      "text/plain": [
       "<function pwskills4.mro()>"
      ]
     },
     "execution_count": 136,
     "metadata": {},
     "output_type": "execute_result"
    }
   ],
   "source": [
    "pwskills4.mro"
   ]
  },
  {
   "cell_type": "markdown",
   "id": "9073a479-e46c-410d-9923-c788a3b47955",
   "metadata": {},
   "source": [
    "static method"
   ]
  },
  {
   "cell_type": "code",
   "execution_count": 143,
   "id": "e9ccd918-0bf6-40c7-bb39-b37b96a2c24d",
   "metadata": {},
   "outputs": [],
   "source": [
    "class pwskills:\n",
    "    \n",
    "    def student_details(self , name , mail_id , number) :\n",
    "        print(name , mail_id , number)"
   ]
  },
  {
   "cell_type": "code",
   "execution_count": 144,
   "id": "25137fd8-4d9f-4690-9118-5b11b66c6002",
   "metadata": {},
   "outputs": [],
   "source": [
    "pw = pwskills()"
   ]
  },
  {
   "cell_type": "code",
   "execution_count": 145,
   "id": "ec274b3c-b55b-41ff-9274-7a848d92694e",
   "metadata": {},
   "outputs": [
    {
     "name": "stdout",
     "output_type": "stream",
     "text": [
      "sudh sudh@gmail.com 7896541236\n"
     ]
    }
   ],
   "source": [
    "pw.student_details(\"sudh\" , \"sudh@gmail.com\" , 7896541236)"
   ]
  },
  {
   "cell_type": "code",
   "execution_count": 152,
   "id": "768fe7cc-75fb-4cf0-9c84-9fa86f676ff0",
   "metadata": {},
   "outputs": [],
   "source": [
    "class pwskills1:\n",
    "    \n",
    "    def student_details(self , name , mail_id , number) :\n",
    "        print(name , mail_id , number)\n",
    "        \n",
    "    @staticmethod\n",
    "    def mentor_class(list_mentor):\n",
    "        print(list_mentor)\n",
    "        \n",
    "    def mentor(self , mentor_list):\n",
    "        print(mentor_list)"
   ]
  },
  {
   "cell_type": "code",
   "execution_count": 153,
   "id": "648da893-c5e8-4649-9367-8eb755af3104",
   "metadata": {},
   "outputs": [
    {
     "name": "stdout",
     "output_type": "stream",
     "text": [
      "['sudh', 'krish']\n"
     ]
    }
   ],
   "source": [
    "pwskills1.mentor_class([\"sudh\" , \"krish\"])"
   ]
  },
  {
   "cell_type": "code",
   "execution_count": 154,
   "id": "3c46df20-8e33-4e47-a67c-cafd92e45706",
   "metadata": {},
   "outputs": [],
   "source": [
    "stu1 = pwskills1()"
   ]
  },
  {
   "cell_type": "code",
   "execution_count": 155,
   "id": "edfb2141-a369-4a6f-9168-9adb720ca3fa",
   "metadata": {},
   "outputs": [],
   "source": [
    "stu2 = pwskills1()"
   ]
  },
  {
   "cell_type": "code",
   "execution_count": 156,
   "id": "e962aa57-85b8-4611-92f6-3ddf2961f62e",
   "metadata": {},
   "outputs": [],
   "source": [
    "stu3 = pwskills1()"
   ]
  },
  {
   "cell_type": "code",
   "execution_count": 168,
   "id": "2c83b44a-c444-423e-a5a9-d00e10acd9c2",
   "metadata": {},
   "outputs": [],
   "source": [
    "class pwskills5:\n",
    "    \n",
    "    def student_details(self , name , mail_id , number) :\n",
    "        print(name , mail_id , number)\n",
    "    @staticmethod\n",
    "    def mentor_mail_id(mail_id_mentor):\n",
    "        print(mail_id_mentor)\n",
    "    \n",
    "    @staticmethod\n",
    "    def mentor_class(list_mentor):\n",
    "        pwskills5.mentor_mail_id([\"sudh@gmail.com\" , \"krish@gmail.com\"])\n",
    "        print(list_mentor)\n",
    "        \n",
    "    @classmethod\n",
    "    def class_name(cls):\n",
    "        cls.mentor_class([\"sudh\" , \"krish\"])\n",
    "        \n",
    "    def mentor(self , mentor_list):\n",
    "        print(mentor_list)\n",
    "        self.mentor_class([\"krish\" , \"sudh\"])"
   ]
  },
  {
   "cell_type": "code",
   "execution_count": 169,
   "id": "b5f4b73f-9b40-4b21-ad47-dfc6a997cb4d",
   "metadata": {},
   "outputs": [
    {
     "name": "stdout",
     "output_type": "stream",
     "text": [
      "['sudh@gmail.com', 'krish@gmail.com']\n",
      "['sudh', 'krish']\n"
     ]
    }
   ],
   "source": [
    "pwskills5.class_name()"
   ]
  },
  {
   "cell_type": "code",
   "execution_count": 170,
   "id": "83b05b76-c5b8-4af5-98b0-c8abf8eefb54",
   "metadata": {},
   "outputs": [
    {
     "name": "stdout",
     "output_type": "stream",
     "text": [
      "['sudh@gmail.com', 'krish@gmail.com']\n",
      "['krish']\n"
     ]
    }
   ],
   "source": [
    "pwskills5.mentor_class([\"krish\"])"
   ]
  },
  {
   "cell_type": "code",
   "execution_count": 171,
   "id": "1bcdcb7d-ad78-4136-a6e2-3c7d6a367dd5",
   "metadata": {},
   "outputs": [],
   "source": [
    "pw = pwskills5()"
   ]
  },
  {
   "cell_type": "code",
   "execution_count": 172,
   "id": "0e1ebc97-15a3-420e-b426-f556d7053759",
   "metadata": {},
   "outputs": [
    {
     "name": "stdout",
     "output_type": "stream",
     "text": [
      "['somu']\n",
      "['sudh@gmail.com', 'krish@gmail.com']\n",
      "['krish', 'sudh']\n"
     ]
    }
   ],
   "source": [
    "pw.mentor([\"somu\"])"
   ]
  },
  {
   "cell_type": "markdown",
   "id": "2b66be3b-b7f5-41c6-847f-104237a341fa",
   "metadata": {},
   "source": [
    "special(magic/dunder) methods"
   ]
  },
  {
   "cell_type": "code",
   "execution_count": 173,
   "id": "580d48d3-8f12-4310-be79-e22ce163ec4c",
   "metadata": {},
   "outputs": [
    {
     "data": {
      "text/plain": [
       "['__abs__',\n",
       " '__add__',\n",
       " '__and__',\n",
       " '__bool__',\n",
       " '__ceil__',\n",
       " '__class__',\n",
       " '__delattr__',\n",
       " '__dir__',\n",
       " '__divmod__',\n",
       " '__doc__',\n",
       " '__eq__',\n",
       " '__float__',\n",
       " '__floor__',\n",
       " '__floordiv__',\n",
       " '__format__',\n",
       " '__ge__',\n",
       " '__getattribute__',\n",
       " '__getnewargs__',\n",
       " '__gt__',\n",
       " '__hash__',\n",
       " '__index__',\n",
       " '__init__',\n",
       " '__init_subclass__',\n",
       " '__int__',\n",
       " '__invert__',\n",
       " '__le__',\n",
       " '__lshift__',\n",
       " '__lt__',\n",
       " '__mod__',\n",
       " '__mul__',\n",
       " '__ne__',\n",
       " '__neg__',\n",
       " '__new__',\n",
       " '__or__',\n",
       " '__pos__',\n",
       " '__pow__',\n",
       " '__radd__',\n",
       " '__rand__',\n",
       " '__rdivmod__',\n",
       " '__reduce__',\n",
       " '__reduce_ex__',\n",
       " '__repr__',\n",
       " '__rfloordiv__',\n",
       " '__rlshift__',\n",
       " '__rmod__',\n",
       " '__rmul__',\n",
       " '__ror__',\n",
       " '__round__',\n",
       " '__rpow__',\n",
       " '__rrshift__',\n",
       " '__rshift__',\n",
       " '__rsub__',\n",
       " '__rtruediv__',\n",
       " '__rxor__',\n",
       " '__setattr__',\n",
       " '__sizeof__',\n",
       " '__str__',\n",
       " '__sub__',\n",
       " '__subclasshook__',\n",
       " '__truediv__',\n",
       " '__trunc__',\n",
       " '__xor__',\n",
       " 'as_integer_ratio',\n",
       " 'bit_count',\n",
       " 'bit_length',\n",
       " 'conjugate',\n",
       " 'denominator',\n",
       " 'from_bytes',\n",
       " 'imag',\n",
       " 'numerator',\n",
       " 'real',\n",
       " 'to_bytes']"
      ]
     },
     "execution_count": 173,
     "metadata": {},
     "output_type": "execute_result"
    }
   ],
   "source": [
    "dir(int)"
   ]
  },
  {
   "cell_type": "code",
   "execution_count": 174,
   "id": "2be5b6d8-fb3a-4ddb-b0b1-4de236ba4c6b",
   "metadata": {},
   "outputs": [
    {
     "data": {
      "text/plain": [
       "['__add__',\n",
       " '__class__',\n",
       " '__contains__',\n",
       " '__delattr__',\n",
       " '__dir__',\n",
       " '__doc__',\n",
       " '__eq__',\n",
       " '__format__',\n",
       " '__ge__',\n",
       " '__getattribute__',\n",
       " '__getitem__',\n",
       " '__getnewargs__',\n",
       " '__gt__',\n",
       " '__hash__',\n",
       " '__init__',\n",
       " '__init_subclass__',\n",
       " '__iter__',\n",
       " '__le__',\n",
       " '__len__',\n",
       " '__lt__',\n",
       " '__mod__',\n",
       " '__mul__',\n",
       " '__ne__',\n",
       " '__new__',\n",
       " '__reduce__',\n",
       " '__reduce_ex__',\n",
       " '__repr__',\n",
       " '__rmod__',\n",
       " '__rmul__',\n",
       " '__setattr__',\n",
       " '__sizeof__',\n",
       " '__str__',\n",
       " '__subclasshook__',\n",
       " 'capitalize',\n",
       " 'casefold',\n",
       " 'center',\n",
       " 'count',\n",
       " 'encode',\n",
       " 'endswith',\n",
       " 'expandtabs',\n",
       " 'find',\n",
       " 'format',\n",
       " 'format_map',\n",
       " 'index',\n",
       " 'isalnum',\n",
       " 'isalpha',\n",
       " 'isascii',\n",
       " 'isdecimal',\n",
       " 'isdigit',\n",
       " 'isidentifier',\n",
       " 'islower',\n",
       " 'isnumeric',\n",
       " 'isprintable',\n",
       " 'isspace',\n",
       " 'istitle',\n",
       " 'isupper',\n",
       " 'join',\n",
       " 'ljust',\n",
       " 'lower',\n",
       " 'lstrip',\n",
       " 'maketrans',\n",
       " 'partition',\n",
       " 'removeprefix',\n",
       " 'removesuffix',\n",
       " 'replace',\n",
       " 'rfind',\n",
       " 'rindex',\n",
       " 'rjust',\n",
       " 'rpartition',\n",
       " 'rsplit',\n",
       " 'rstrip',\n",
       " 'split',\n",
       " 'splitlines',\n",
       " 'startswith',\n",
       " 'strip',\n",
       " 'swapcase',\n",
       " 'title',\n",
       " 'translate',\n",
       " 'upper',\n",
       " 'zfill']"
      ]
     },
     "execution_count": 174,
     "metadata": {},
     "output_type": "execute_result"
    }
   ],
   "source": [
    "dir(str)"
   ]
  },
  {
   "cell_type": "code",
   "execution_count": 175,
   "id": "ac80b718-4a96-442c-aa1d-4b5520e161eb",
   "metadata": {},
   "outputs": [],
   "source": [
    "a = 100"
   ]
  },
  {
   "cell_type": "code",
   "execution_count": 176,
   "id": "8ea0c5d5-899a-4bc5-b33d-4b40cb0c86e6",
   "metadata": {},
   "outputs": [
    {
     "data": {
      "text/plain": [
       "105"
      ]
     },
     "execution_count": 176,
     "metadata": {},
     "output_type": "execute_result"
    }
   ],
   "source": [
    "a+5"
   ]
  },
  {
   "cell_type": "code",
   "execution_count": 177,
   "id": "3a674916-0173-4ff3-ad2c-42e14ddd967b",
   "metadata": {},
   "outputs": [
    {
     "data": {
      "text/plain": [
       "105"
      ]
     },
     "execution_count": 177,
     "metadata": {},
     "output_type": "execute_result"
    }
   ],
   "source": [
    "a.__add__(5)"
   ]
  },
  {
   "cell_type": "code",
   "execution_count": 181,
   "id": "ff03fba1-cc27-406d-84be-f67a0bd8a41a",
   "metadata": {},
   "outputs": [],
   "source": [
    "class pwskills :\n",
    "    \n",
    "    def __new__(cls):\n",
    "        print(\"this is my new\")\n",
    "    \n",
    "    def __init__(self):\n",
    "        print(\"this is my init\")\n",
    "        \n",
    "        self.mobile_number = 93652147\n",
    "        \n",
    "        "
   ]
  },
  {
   "cell_type": "code",
   "execution_count": 182,
   "id": "e834748c-773e-43d3-aa32-e5df01c2709f",
   "metadata": {},
   "outputs": [
    {
     "name": "stdout",
     "output_type": "stream",
     "text": [
      "this is my new\n"
     ]
    }
   ],
   "source": [
    "pw = pwskills()"
   ]
  },
  {
   "cell_type": "code",
   "execution_count": 194,
   "id": "6b991f34-2f9b-48dc-b09c-83145d887821",
   "metadata": {},
   "outputs": [],
   "source": [
    "class pwskills6 :\n",
    "    \n",
    "    \n",
    "    def __init__(self):\n",
    "        \n",
    "        \n",
    "        self.mobile_number = 93652147\n",
    "       \n",
    "    ##def __str__(self):\n",
    "        \n",
    "   ## return \"this is my magic call of str\""
   ]
  },
  {
   "cell_type": "code",
   "execution_count": 195,
   "id": "980b621d-6299-47a1-b483-0b8af6a1aa5b",
   "metadata": {},
   "outputs": [],
   "source": [
    "pw1 = pwskills6()"
   ]
  },
  {
   "cell_type": "code",
   "execution_count": 196,
   "id": "aa0101c1-68c4-483b-9967-2614cf5215f2",
   "metadata": {},
   "outputs": [
    {
     "data": {
      "text/plain": [
       "<__main__.pwskills6 at 0x7fd643efbc10>"
      ]
     },
     "execution_count": 196,
     "metadata": {},
     "output_type": "execute_result"
    }
   ],
   "source": [
    "pw1"
   ]
  },
  {
   "cell_type": "code",
   "execution_count": 197,
   "id": "293e9e25-43b9-4c21-9a54-b96a79269524",
   "metadata": {},
   "outputs": [
    {
     "name": "stdout",
     "output_type": "stream",
     "text": [
      "<__main__.pwskills6 object at 0x7fd643efbc10>\n"
     ]
    }
   ],
   "source": [
    "print(pw1)"
   ]
  },
  {
   "cell_type": "code",
   "execution_count": 193,
   "id": "762e74c1-3477-4be5-9612-7f025e9f157f",
   "metadata": {},
   "outputs": [
    {
     "name": "stdout",
     "output_type": "stream",
     "text": [
      "this is my magic call of str\n"
     ]
    }
   ],
   "source": [
    "print(pw1)"
   ]
  },
  {
   "cell_type": "markdown",
   "id": "1b7c39f2-697e-483b-9946-33dca443b2b0",
   "metadata": {},
   "source": [
    "property decorators - Getter , setter"
   ]
  },
  {
   "cell_type": "code",
   "execution_count": 217,
   "id": "eaea419c-a0d1-44a2-ac50-19f04b5347bd",
   "metadata": {},
   "outputs": [],
   "source": [
    "class pwskills7():\n",
    "    \n",
    "    def __init__(self , course_price , course_name):\n",
    "        \n",
    "        self.__course_price = course_price\n",
    "        self.course_name = course_name\n",
    "        \n",
    "    @property\n",
    "    def course_price_access(self):\n",
    "        return self.__course_price\n",
    "    \n",
    "    @course_price_access.setter\n",
    "    def course_price_set(self , price):\n",
    "        if price <= 3500:\n",
    "            pass\n",
    "        \n",
    "        else :\n",
    "            self.__course_price = price\n",
    "            \n",
    "    @course_price_access.deleter\n",
    "    def delete_course_price(self):\n",
    "        del self.__course_price"
   ]
  },
  {
   "cell_type": "code",
   "execution_count": 218,
   "id": "e700b17a-005e-4b80-a845-c590438999e6",
   "metadata": {},
   "outputs": [],
   "source": [
    "pw = pwskills7(4560 , \"dsm\")"
   ]
  },
  {
   "cell_type": "code",
   "execution_count": 219,
   "id": "32992268-c3b1-4045-b015-4a9138cc8381",
   "metadata": {},
   "outputs": [
    {
     "data": {
      "text/plain": [
       "4560"
      ]
     },
     "execution_count": 219,
     "metadata": {},
     "output_type": "execute_result"
    }
   ],
   "source": [
    "pw._pwskills7__course_price"
   ]
  },
  {
   "cell_type": "code",
   "execution_count": 220,
   "id": "26767aa3-fba2-4ce7-8e3c-ddec287b4821",
   "metadata": {},
   "outputs": [
    {
     "data": {
      "text/plain": [
       "'dsm'"
      ]
     },
     "execution_count": 220,
     "metadata": {},
     "output_type": "execute_result"
    }
   ],
   "source": [
    "pw.course_name"
   ]
  },
  {
   "cell_type": "code",
   "execution_count": 221,
   "id": "5c71ab56-4fa6-402e-a87d-2957b02b445a",
   "metadata": {},
   "outputs": [
    {
     "data": {
      "text/plain": [
       "4560"
      ]
     },
     "execution_count": 221,
     "metadata": {},
     "output_type": "execute_result"
    }
   ],
   "source": [
    "pw.course_price_access"
   ]
  },
  {
   "cell_type": "code",
   "execution_count": 223,
   "id": "5c1e701e-ae33-473b-8a44-26e42e911670",
   "metadata": {},
   "outputs": [
    {
     "data": {
      "text/plain": [
       "4560"
      ]
     },
     "execution_count": 223,
     "metadata": {},
     "output_type": "execute_result"
    }
   ],
   "source": [
    "pw.course_price_set"
   ]
  },
  {
   "cell_type": "code",
   "execution_count": null,
   "id": "284a0b0f-c29d-486f-8837-2ffbe6f1e556",
   "metadata": {},
   "outputs": [],
   "source": []
  }
 ],
 "metadata": {
  "kernelspec": {
   "display_name": "Python 3 (ipykernel)",
   "language": "python",
   "name": "python3"
  },
  "language_info": {
   "codemirror_mode": {
    "name": "ipython",
    "version": 3
   },
   "file_extension": ".py",
   "mimetype": "text/x-python",
   "name": "python",
   "nbconvert_exporter": "python",
   "pygments_lexer": "ipython3",
   "version": "3.10.8"
  }
 },
 "nbformat": 4,
 "nbformat_minor": 5
}
